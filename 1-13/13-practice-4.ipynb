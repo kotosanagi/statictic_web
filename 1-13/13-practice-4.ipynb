{
 "cells": [
  {
   "cell_type": "code",
   "execution_count": 5,
   "metadata": {},
   "outputs": [],
   "source": [
    "import numpy as np\n",
    "import matplotlib.pyplot as plt\n",
    "from scipy.special import comb\n",
    "import math"
   ]
  },
  {
   "cell_type": "code",
   "execution_count": 12,
   "metadata": {},
   "outputs": [],
   "source": [
    "# 二項分布\n",
    "def binomial(k, n, p):\n",
    "    ret = comb(n, k) * math.pow(p, k) * math.pow(1-p, n-k)\n",
    "    return ret"
   ]
  },
  {
   "cell_type": "code",
   "execution_count": 17,
   "metadata": {},
   "outputs": [
    {
     "data": {
      "text/plain": [
       "16.0"
      ]
     },
     "execution_count": 17,
     "metadata": {},
     "output_type": "execute_result"
    }
   ],
   "source": [
    "# ポアソン分布\n",
    "def poisson(lmd, k):\n",
    "    ret = (math.pow(math.e, (-1)*lmd)) * (math.pow(lmd, k)) / (math.factorial(k))\n",
    "    return ret\n",
    "\n",
    "math.pow(2,4)"
   ]
  },
  {
   "cell_type": "markdown",
   "metadata": {},
   "source": [
    "**★★★★問４★★★★**\n",
    "\n",
    "ある気まぐれな歌手について考える。彼は自身のコンサートでアンコールが起こっても、それに応えてもう一曲歌うのは稀で、およそ5%程度の確率でしか歌わないと言われている。彼が年間で40公演するとき、アンコールに応えて歌ってくれる公演数が3以上となる確率を求めよ。"
   ]
  },
  {
   "cell_type": "markdown",
   "metadata": {},
   "source": [
    "k=3以上の確率なので、k=0,1,2の確率を100%から引けばよい\n"
   ]
  },
  {
   "cell_type": "code",
   "execution_count": 11,
   "metadata": {},
   "outputs": [
    {
     "name": "stdout",
     "output_type": "stream",
     "text": [
      "k=0: 0.12851215656510312\n",
      "k=1: 0.27055190855811184\n",
      "k=2: 0.27767169562543065\n",
      "ans: 0.3232642392513544\n"
     ]
    }
   ],
   "source": [
    "# ★★★★二項分布で考える場合★★★★  \n",
    "# k = 0~2\n",
    "n = 40\n",
    "p = 0.05\n",
    "\n",
    "ret_0 = binomial(0, n, p)\n",
    "ret_1 = binomial(1, n, p)\n",
    "ret_2 = binomial(2, n, p)\n",
    "\n",
    "\n",
    "print(\"k=0:\",ret_0)\n",
    "print(\"k=1:\",ret_1)\n",
    "print(\"k=2:\",ret_2)\n",
    "\n",
    "ans = 1 - (ret_0 + ret_1 + ret_2)\n",
    "print(\"ans:\", ans)\n"
   ]
  },
  {
   "cell_type": "code",
   "execution_count": 18,
   "metadata": {},
   "outputs": [
    {
     "name": "stdout",
     "output_type": "stream",
     "text": [
      "k=0: 0.1353352832366127\n",
      "k=1: 0.2706705664732254\n",
      "k=2: 0.2706705664732254\n",
      "ans: 0.3233235838169365\n"
     ]
    }
   ],
   "source": [
    "# ★★★★ポアソン分布で考える場合★★★★\n",
    "lmd = 2 # λ:np=40*0.05=2  \n",
    "# k:0~2\n",
    "\n",
    "ret_0 = poisson(lmd, 0)\n",
    "ret_1 = poisson(lmd, 1)\n",
    "ret_2 = poisson(lmd, 2)\n",
    "\n",
    "\n",
    "print(\"k=0:\",ret_0)\n",
    "print(\"k=1:\",ret_1)\n",
    "print(\"k=2:\",ret_2)\n",
    "\n",
    "ans = 1 - (ret_0 + ret_1 + ret_2)\n",
    "print(\"ans:\", ans)\n",
    "\n"
   ]
  },
  {
   "cell_type": "markdown",
   "metadata": {},
   "source": [
    "**★★★★問５★★★★**\n",
    "\n",
    "自転車に乗るのが大好きな太郎君が、1日のうちに自転車に乗って転んでしまう確率は25%であるという。転んだ日から次に転ぶ日までの平均日数はどのくらいであると期待されるか。ただし、転んだ日から次に転ぶ日までの日数は幾何分布に従うものとする。"
   ]
  },
  {
   "cell_type": "markdown",
   "metadata": {},
   "source": []
  }
 ],
 "metadata": {
  "interpreter": {
   "hash": "d07228f584b0d0bf839c6e2a944733117ade1955fb75b5a9abfce85affc47b38"
  },
  "kernelspec": {
   "display_name": "Python 3.6.4 64-bit ('3.6.4')",
   "language": "python",
   "name": "python3"
  },
  "language_info": {
   "codemirror_mode": {
    "name": "ipython",
    "version": 3
   },
   "file_extension": ".py",
   "mimetype": "text/x-python",
   "name": "python",
   "nbconvert_exporter": "python",
   "pygments_lexer": "ipython3",
   "version": "3.8.10"
  },
  "orig_nbformat": 4
 },
 "nbformat": 4,
 "nbformat_minor": 2
}
