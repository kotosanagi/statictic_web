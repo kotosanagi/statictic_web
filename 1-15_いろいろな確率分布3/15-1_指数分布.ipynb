{
 "metadata": {
  "language_info": {
   "codemirror_mode": {
    "name": "ipython",
    "version": 3
   },
   "file_extension": ".py",
   "mimetype": "text/x-python",
   "name": "python",
   "nbconvert_exporter": "python",
   "pygments_lexer": "ipython3",
   "version": "3.9.0-final"
  },
  "orig_nbformat": 2,
  "kernelspec": {
   "name": "python39064bit4464f5844dbc4f1ca02dd0615bf98f54",
   "display_name": "Python 3.9.0 64-bit"
  }
 },
 "nbformat": 4,
 "nbformat_minor": 2,
 "cells": [
  {
   "cell_type": "markdown",
   "metadata": {},
   "source": [
    "15-1. 指数分布  \n",
    "https://bellcurve.jp/statistics/course/8009.html"
   ]
  },
  {
   "cell_type": "code",
   "execution_count": 31,
   "metadata": {
    "tags": []
   },
   "outputs": [],
   "source": [
    "import numpy as np\n",
    "import matplotlib.pyplot as plt\n",
    "from scipy.special import comb\n",
    "import math"
   ]
  },
  {
   "cell_type": "code",
   "execution_count": 32,
   "metadata": {},
   "outputs": [],
   "source": [
    "def expdist(x, lmd, accum=False):\n",
    "    \"\"\"\n",
    "    指数分布\n",
    "    x : 確率変数\n",
    "    lmd : 単位時間に起こる確率\n",
    "    accum : 累積分布か（デフォはFalse）\n",
    "    \"\"\"\n",
    "    if x < 0:\n",
    "        return 0\n",
    "    if accum:\n",
    "        # 累積分布を計算する場合\n",
    "        ret = 1 - (math.pow(math.e, (-1)*lmd*x))\n",
    "    else:\n",
    "        ret = (lmd) * (math.pow(math.e, (-1)*lmd*x))\n",
    "    return ret"
   ]
  },
  {
   "cell_type": "code",
   "execution_count": 38,
   "metadata": {
    "tags": []
   },
   "outputs": [
    {
     "output_type": "stream",
     "name": "stdout",
     "text": "x:0.08 , lmd:10.00 , accum:False , ans:4.346\n"
    }
   ],
   "source": [
    "x = 1/12\n",
    "lmd = 10\n",
    "accum = False\n",
    "\n",
    "print(f'x:{x:.2f} , lmd:{lmd:.2f} , accum:{accum} , ans:{expdist(x, lmd, accum):.3f}')"
   ]
  },
  {
   "cell_type": "code",
   "execution_count": 39,
   "metadata": {
    "tags": []
   },
   "outputs": [
    {
     "output_type": "stream",
     "name": "stdout",
     "text": "x:0.08 , lmd:10.00 , accum:True , ans:0.565\n"
    }
   ],
   "source": [
    "x = 1/12\n",
    "lmd = 10\n",
    "accum = True\n",
    "\n",
    "print(f'x:{x:.2f} , lmd:{lmd:.2f} , accum:{accum} , ans:{expdist(x, lmd, accum):.3f}')"
   ]
  },
  {
   "cell_type": "code",
   "execution_count": null,
   "metadata": {},
   "outputs": [],
   "source": []
  }
 ]
}