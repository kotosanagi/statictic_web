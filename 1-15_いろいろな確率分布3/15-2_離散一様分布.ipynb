{
 "metadata": {
  "language_info": {
   "codemirror_mode": {
    "name": "ipython",
    "version": 3
   },
   "file_extension": ".py",
   "mimetype": "text/x-python",
   "name": "python",
   "nbconvert_exporter": "python",
   "pygments_lexer": "ipython3",
   "version": "3.9.0-final"
  },
  "orig_nbformat": 2,
  "kernelspec": {
   "name": "python39064bit4464f5844dbc4f1ca02dd0615bf98f54",
   "display_name": "Python 3.9.0 64-bit"
  }
 },
 "nbformat": 4,
 "nbformat_minor": 2,
 "cells": [
  {
   "cell_type": "markdown",
   "metadata": {},
   "source": [
    "15-2. 離散一様分布  \n",
    "https://bellcurve.jp/statistics/course/8011.html"
   ]
  },
  {
   "cell_type": "code",
   "execution_count": 8,
   "metadata": {},
   "outputs": [],
   "source": [
    "import numpy as np\n",
    "import matplotlib.pyplot as plt\n",
    "from scipy.special import comb\n",
    "import math"
   ]
  },
  {
   "cell_type": "code",
   "execution_count": 9,
   "metadata": {},
   "outputs": [],
   "source": [
    "def discrete_uni_dist(max, min=1):\n",
    "    \"\"\"\n",
    "    離散一様分布の確率\n",
    "    max : 取りうる値の最高値\n",
    "    min : 取りうる値の最低値(デフォは1)\n",
    "    （k=min,min+2,...,max）\n",
    "    \"\"\"\n",
    "    ret = 1 / (max - min + 1)\n",
    "    return ret"
   ]
  },
  {
   "cell_type": "code",
   "execution_count": 10,
   "metadata": {
    "tags": []
   },
   "outputs": [
    {
     "output_type": "stream",
     "name": "stdout",
     "text": "min:1, max:6, ans:0.16666666666666666\n"
    }
   ],
   "source": [
    "# サイコロの出る目の確率\n",
    "max = 6\n",
    "min = 1\n",
    "print(f'min:{min}, max:{max}, ans:{discrete_uni_dist(max, min)}')"
   ]
  },
  {
   "cell_type": "code",
   "execution_count": 11,
   "metadata": {
    "tags": []
   },
   "outputs": [
    {
     "output_type": "stream",
     "name": "stdout",
     "text": "min:3, max:7, ans:0.2\n"
    }
   ],
   "source": [
    "# 「3から7が出る謎サイコロ」の出る目の確率\n",
    "max = 7\n",
    "min = 3\n",
    "print(f'min:{min}, max:{max}, ans:{discrete_uni_dist(max, min)}')"
   ]
  },
  {
   "cell_type": "code",
   "execution_count": null,
   "metadata": {},
   "outputs": [],
   "source": []
  }
 ]
}