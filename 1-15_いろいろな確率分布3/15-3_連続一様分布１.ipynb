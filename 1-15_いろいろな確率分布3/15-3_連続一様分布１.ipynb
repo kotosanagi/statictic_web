{
 "metadata": {
  "language_info": {
   "codemirror_mode": {
    "name": "ipython",
    "version": 3
   },
   "file_extension": ".py",
   "mimetype": "text/x-python",
   "name": "python",
   "nbconvert_exporter": "python",
   "pygments_lexer": "ipython3",
   "version": "3.9.0-final"
  },
  "orig_nbformat": 2,
  "kernelspec": {
   "name": "python39064bit4464f5844dbc4f1ca02dd0615bf98f54",
   "display_name": "Python 3.9.0 64-bit"
  }
 },
 "nbformat": 4,
 "nbformat_minor": 2,
 "cells": [
  {
   "cell_type": "markdown",
   "metadata": {},
   "source": [
    "15-3. 連続一様分布１  \n",
    "https://bellcurve.jp/statistics/course/8013.html"
   ]
  },
  {
   "cell_type": "code",
   "execution_count": 1,
   "metadata": {},
   "outputs": [],
   "source": [
    "import numpy as np\n",
    "import matplotlib.pyplot as plt\n",
    "from scipy.special import comb\n",
    "import math"
   ]
  },
  {
   "cell_type": "code",
   "execution_count": 4,
   "metadata": {},
   "outputs": [],
   "source": [
    "def continuous_uni_dist(x, min, max, accum=False):\n",
    "    \"\"\"\n",
    "    連続一様分布\n",
    "    x : 確率変数\n",
    "    min : 取りうる値の最低値\n",
    "    max : 取りうる値の最高値\n",
    "    accum : 累積分布か（デフォはFalse）\n",
    "    \"\"\"\n",
    "    if max <= min:\n",
    "        print('min < maxとなるようにしてください')\n",
    "        exit()\n",
    "    if accum:\n",
    "        # 累積分布を計算する場合\n",
    "        if x < min:\n",
    "            ret = 0\n",
    "        elif x > max:\n",
    "            ret = 1\n",
    "        else:\n",
    "            ret = (x - min) / (max - min)\n",
    "    else:\n",
    "        if x < min or x > max:\n",
    "            return 0\n",
    "        ret = 1 / (max - min)\n",
    "    return ret"
   ]
  },
  {
   "cell_type": "code",
   "execution_count": null,
   "metadata": {},
   "outputs": [],
   "source": []
  }
 ]
}