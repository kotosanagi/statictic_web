{
 "metadata": {
  "language_info": {
   "codemirror_mode": {
    "name": "ipython",
    "version": 3
   },
   "file_extension": ".py",
   "mimetype": "text/x-python",
   "name": "python",
   "nbconvert_exporter": "python",
   "pygments_lexer": "ipython3",
   "version": "3.9.0-final"
  },
  "orig_nbformat": 2,
  "kernelspec": {
   "name": "python39064bit4464f5844dbc4f1ca02dd0615bf98f54",
   "display_name": "Python 3.9.0 64-bit"
  }
 },
 "nbformat": 4,
 "nbformat_minor": 2,
 "cells": [
  {
   "cell_type": "markdown",
   "metadata": {},
   "source": [
    "15-4. 連続一様分布２  \n",
    "https://bellcurve.jp/statistics/course/8015.html"
   ]
  },
  {
   "cell_type": "code",
   "execution_count": 20,
   "metadata": {},
   "outputs": [],
   "source": [
    "import numpy as np\n",
    "import matplotlib.pyplot as plt\n",
    "from scipy.special import comb\n",
    "import math"
   ]
  },
  {
   "cell_type": "code",
   "execution_count": 21,
   "metadata": {},
   "outputs": [],
   "source": [
    "def continuous_uni_dist(x, min, max):\n",
    "    \"\"\"\n",
    "    連続一様分布の確率密度関数\n",
    "    x : 確率変数\n",
    "    min : 取りうる値の最低値（a）\n",
    "    max : 取りうる値の最高値（b）\n",
    "    \"\"\"\n",
    "    if x < min or x > max:\n",
    "        return 0\n",
    "    ret = 1 / (max - min)\n",
    "    return ret"
   ]
  },
  {
   "cell_type": "code",
   "execution_count": 22,
   "metadata": {},
   "outputs": [],
   "source": [
    "def accum_continuous_uni_dist(fx, min, max):\n",
    "    \"\"\"\n",
    "    連続一様分布(累積)\n",
    "    fx : 確率密度\n",
    "    min : 調べる範囲の最低値（a）\n",
    "    max : 調べる範囲の最高値（b）\n",
    "    \"\"\"\n",
    "    ret = fx * (max - min)\n",
    "    return ret"
   ]
  },
  {
   "cell_type": "code",
   "execution_count": 24,
   "metadata": {
    "tags": []
   },
   "outputs": [
    {
     "output_type": "stream",
     "name": "stdout",
     "text": "確率密度：0.2\n確率：0.2\n"
    }
   ],
   "source": [
    "# 例題1：\n",
    "# 0以上5以下の範囲で乱数を10,000個作成したとき、その中で1以上2以下の値をとる確率はいくらでしょうか。\n",
    "\n",
    "fx = continuous_uni_dist(2, 0, 5)\n",
    "print(f'確率密度：{fx}')\n",
    "print(f'確率：{accum_continuous_uni_dist(fx, 1, 2)}')\n"
   ]
  },
  {
   "cell_type": "code",
   "execution_count": null,
   "metadata": {},
   "outputs": [],
   "source": [
    "# 実際にやってみる\n",
    "\n"
   ]
  },
  {
   "cell_type": "code",
   "execution_count": null,
   "metadata": {},
   "outputs": [],
   "source": []
  }
 ]
}